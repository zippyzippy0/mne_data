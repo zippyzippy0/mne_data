{
 "cells": [
  {
   "cell_type": "code",
   "execution_count": 1,
   "id": "e5f10536-f8e0-4476-8cd1-5f7b87e69b11",
   "metadata": {},
   "outputs": [],
   "source": [
    "name = \"Edureka\"\n",
    "subscribers = 700000\n"
   ]
  },
  {
   "cell_type": "code",
   "execution_count": 4,
   "id": "01dda16c-9dcc-4547-82f0-d64a226926c3",
   "metadata": {},
   "outputs": [
    {
     "name": "stdout",
     "output_type": "stream",
     "text": [
      "Edureka has 700000 Youtube subscribers now.\n"
     ]
    }
   ],
   "source": [
    "print(name + \" has \" + str(subscribers) + \" Youtube subscribers now.\")"
   ]
  },
  {
   "cell_type": "code",
   "execution_count": null,
   "id": "a5630c28-ebfc-4d01-abfa-6840e7e2cd05",
   "metadata": {},
   "outputs": [],
   "source": []
  },
  {
   "cell_type": "code",
   "execution_count": null,
   "id": "32a060b1-ca67-40da-9a89-b96672b7724a",
   "metadata": {},
   "outputs": [],
   "source": []
  }
 ],
 "metadata": {
  "kernelspec": {
   "display_name": "Python 3 (ipykernel)",
   "language": "python",
   "name": "python3"
  },
  "language_info": {
   "codemirror_mode": {
    "name": "ipython",
    "version": 3
   },
   "file_extension": ".py",
   "mimetype": "text/x-python",
   "name": "python",
   "nbconvert_exporter": "python",
   "pygments_lexer": "ipython3",
   "version": "3.12.4"
  }
 },
 "nbformat": 4,
 "nbformat_minor": 5
}
