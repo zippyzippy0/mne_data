{
 "cells": [
  {
   "cell_type": "code",
   "execution_count": 1,
   "id": "a5630c28-ebfc-4d01-abfa-6840e7e2cd05",
   "metadata": {},
   "outputs": [],
   "source": [
    "from sklearn import datasets"
   ]
  },
  {
   "cell_type": "code",
   "execution_count": 5,
   "id": "ac01ec40-14be-4188-8560-7f96364c34e7",
   "metadata": {},
   "outputs": [],
   "source": [
    "iris_dataset = datasets.load_iris()"
   ]
  },
  {
   "cell_type": "code",
   "execution_count": 6,
   "id": "dd6c6dcd-0c50-4283-aa05-35e4fade1ddd",
   "metadata": {},
   "outputs": [],
   "source": [
    "x = iris_dataset.data[:,:2]"
   ]
  },
  {
   "cell_type": "code",
   "execution_count": 8,
   "id": "0cb593e3-4673-418d-ab23-4cbeaf068da5",
   "metadata": {},
   "outputs": [],
   "source": [
    "x_count = len(x.flat)\n",
    "x_min = x[:,0].min() - .5\n",
    "x_max = x[:,0].max() + .5\n",
    "x_mean = x[:,0].mean() - .5\n"
   ]
  },
  {
   "cell_type": "code",
   "execution_count": 9,
   "id": "43e4d261-9230-49f7-b021-8baea571ecab",
   "metadata": {},
   "outputs": [
    {
     "data": {
      "text/plain": [
       "(300, 3.8, 8.4, 5.343333333333334)"
      ]
     },
     "execution_count": 9,
     "metadata": {},
     "output_type": "execute_result"
    }
   ],
   "source": [
    "x_count, x_min, x_max, x_mean"
   ]
  },
  {
   "cell_type": "code",
   "execution_count": null,
   "id": "6ce0995c-feb7-4f10-bcaf-ba8e2a9fe817",
   "metadata": {},
   "outputs": [],
   "source": []
  }
 ],
 "metadata": {
  "kernelspec": {
   "display_name": "Python 3 (ipykernel)",
   "language": "python",
   "name": "python3"
  },
  "language_info": {
   "codemirror_mode": {
    "name": "ipython",
    "version": 3
   },
   "file_extension": ".py",
   "mimetype": "text/x-python",
   "name": "python",
   "nbconvert_exporter": "python",
   "pygments_lexer": "ipython3",
   "version": "3.12.4"
  }
 },
 "nbformat": 4,
 "nbformat_minor": 5
}
